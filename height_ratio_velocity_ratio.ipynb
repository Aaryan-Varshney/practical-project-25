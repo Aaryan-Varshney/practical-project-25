{
 "cells": [
  {
   "cell_type": "code",
   "execution_count": 3,
   "metadata": {},
   "outputs": [],
   "source": [
    "import matplotlib.pyplot as plt\n",
    "import numpy as np"
   ]
  },
  {
   "cell_type": "code",
   "execution_count": 4,
   "metadata": {},
   "outputs": [],
   "source": [
    "initial_heights = np.array([\n",
    "0.804, 0.807, 0.8, 0.8, 0.801, 0.673, 0.804, 0.804, 0.807, 0.415, 0.804\n",
    "])\n",
    "\n",
    "final_heights = np.array([\n",
    "1.9566144, 2.0401767, 1.97192, 2.12552, 2.2072356, 1.72288, 2.1624384, 2.1361476, 2.0918247, 1.1026135, 1.93161\n",
    "])\n",
    "\n",
    "separation_distances = np.array([\n",
    "19, 14, 6, 29, 53, 18, 36, 39, 27, 25, 5\n",
    "])\n",
    "\n",
    "height_ratios = final_heights / initial_heights"
   ]
  },
  {
   "cell_type": "code",
   "execution_count": 5,
   "metadata": {},
   "outputs": [],
   "source": [
    "g = 9.81\n",
    "\n",
    "approach_velocities = np.sqrt(2 * g * initial_heights)\n",
    "\n",
    "separation_velocities = np.sqrt(2 * g * final_heights)\n",
    "\n",
    "velocity_ratios = separation_velocities / approach_velocities"
   ]
  },
  {
   "cell_type": "code",
   "execution_count": null,
   "metadata": {},
   "outputs": [],
   "source": [
    "x = separation_distances\n",
    "y_vel = velocity_ratios\n",
    "y_height = height_ratios\n",
    "\n"
   ]
  }
 ],
 "metadata": {
  "kernelspec": {
   "display_name": "bpho25",
   "language": "python",
   "name": "python3"
  },
  "language_info": {
   "codemirror_mode": {
    "name": "ipython",
    "version": 3
   },
   "file_extension": ".py",
   "mimetype": "text/x-python",
   "name": "python",
   "nbconvert_exporter": "python",
   "pygments_lexer": "ipython3",
   "version": "3.13.1"
  }
 },
 "nbformat": 4,
 "nbformat_minor": 2
}
